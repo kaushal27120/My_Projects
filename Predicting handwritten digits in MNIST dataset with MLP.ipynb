{
 "cells": [
  {
   "cell_type": "code",
   "execution_count": 3,
   "metadata": {},
   "outputs": [
    {
     "name": "stdout",
     "output_type": "stream",
     "text": [
      "Collecting keras\n",
      "  Obtaining dependency information for keras from https://files.pythonhosted.org/packages/24/63/bbc83d949e1940d079dcd1cd87e31498bfb71d641c8e33d917ca3f2e51a9/keras-3.0.0-py3-none-any.whl.metadata\n",
      "  Downloading keras-3.0.0-py3-none-any.whl.metadata (5.3 kB)\n",
      "Collecting absl-py (from keras)\n",
      "  Obtaining dependency information for absl-py from https://files.pythonhosted.org/packages/01/e4/dc0a1dcc4e74e08d7abedab278c795eef54a224363bb18f5692f416d834f/absl_py-2.0.0-py3-none-any.whl.metadata\n",
      "  Downloading absl_py-2.0.0-py3-none-any.whl.metadata (2.3 kB)\n",
      "Requirement already satisfied: numpy in c:\\users\\kaushal\\anaconda3\\lib\\site-packages (from keras) (1.24.3)\n",
      "Collecting rich (from keras)\n",
      "  Obtaining dependency information for rich from https://files.pythonhosted.org/packages/be/be/1520178fa01eabe014b16e72a952b9f900631142ccd03dc36cf93e30c1ce/rich-13.7.0-py3-none-any.whl.metadata\n",
      "  Downloading rich-13.7.0-py3-none-any.whl.metadata (18 kB)\n",
      "Collecting namex (from keras)\n",
      "  Downloading namex-0.0.7-py3-none-any.whl (5.8 kB)\n",
      "Requirement already satisfied: h5py in c:\\users\\kaushal\\anaconda3\\lib\\site-packages (from keras) (3.9.0)\n",
      "Collecting dm-tree (from keras)\n",
      "  Downloading dm_tree-0.1.8-cp311-cp311-win_amd64.whl (101 kB)\n",
      "     ---------------------------------------- 0.0/101.3 kB ? eta -:--:--\n",
      "     ---- ----------------------------------- 10.2/101.3 kB ? eta -:--:--\n",
      "     -------------------------- ---------- 71.7/101.3 kB 787.7 kB/s eta 0:00:01\n",
      "     -------------------------------------- 101.3/101.3 kB 1.2 MB/s eta 0:00:00\n",
      "Requirement already satisfied: markdown-it-py>=2.2.0 in c:\\users\\kaushal\\anaconda3\\lib\\site-packages (from rich->keras) (2.2.0)\n",
      "Requirement already satisfied: pygments<3.0.0,>=2.13.0 in c:\\users\\kaushal\\anaconda3\\lib\\site-packages (from rich->keras) (2.15.1)\n",
      "Requirement already satisfied: mdurl~=0.1 in c:\\users\\kaushal\\anaconda3\\lib\\site-packages (from markdown-it-py>=2.2.0->rich->keras) (0.1.0)\n",
      "Downloading keras-3.0.0-py3-none-any.whl (997 kB)\n",
      "   ---------------------------------------- 0.0/997.1 kB ? eta -:--:--\n",
      "   ---- ----------------------------------- 112.6/997.1 kB 6.4 MB/s eta 0:00:01\n",
      "   --------- ------------------------------ 245.8/997.1 kB 3.7 MB/s eta 0:00:01\n",
      "   ------------- -------------------------- 327.7/997.1 kB 2.5 MB/s eta 0:00:01\n",
      "   ------------------------ --------------- 604.2/997.1 kB 4.2 MB/s eta 0:00:01\n",
      "   -------------------------------- ------- 819.2/997.1 kB 4.3 MB/s eta 0:00:01\n",
      "   ---------------------------------------- 997.1/997.1 kB 4.2 MB/s eta 0:00:00\n",
      "Downloading absl_py-2.0.0-py3-none-any.whl (130 kB)\n",
      "   ---------------------------------------- 0.0/130.2 kB ? eta -:--:--\n",
      "   ---------------------------------------- 130.2/130.2 kB 7.5 MB/s eta 0:00:00\n",
      "Downloading rich-13.7.0-py3-none-any.whl (240 kB)\n",
      "   ---------------------------------------- 0.0/240.6 kB ? eta -:--:--\n",
      "   --------------------------------------- 240.6/240.6 kB 14.4 MB/s eta 0:00:00\n",
      "Installing collected packages: namex, dm-tree, absl-py, rich, keras\n",
      "Successfully installed absl-py-2.0.0 dm-tree-0.1.8 keras-3.0.0 namex-0.0.7 rich-13.7.0\n"
     ]
    }
   ],
   "source": [
    "!pip install keras"
   ]
  },
  {
   "cell_type": "code",
   "execution_count": 1,
   "metadata": {
    "ExecuteTime": {
     "end_time": "2018-11-13T15:21:42.701445Z",
     "start_time": "2018-11-13T15:21:39.648435Z"
    }
   },
   "outputs": [
    {
     "name": "stdout",
     "output_type": "stream",
     "text": [
      "WARNING:tensorflow:From C:\\Users\\Kaushal\\anaconda3\\Lib\\site-packages\\keras\\src\\losses.py:2976: The name tf.losses.sparse_softmax_cross_entropy is deprecated. Please use tf.compat.v1.losses.sparse_softmax_cross_entropy instead.\n",
      "\n"
     ]
    }
   ],
   "source": [
    "import keras"
   ]
  },
  {
   "cell_type": "code",
   "execution_count": 2,
   "metadata": {},
   "outputs": [],
   "source": [
    "from keras.datasets import mnist"
   ]
  },
  {
   "cell_type": "code",
   "execution_count": 3,
   "metadata": {
    "ExecuteTime": {
     "end_time": "2018-11-13T15:29:02.781102Z",
     "start_time": "2018-11-13T15:29:02.369623Z"
    }
   },
   "outputs": [
    {
     "name": "stdout",
     "output_type": "stream",
     "text": [
      "Downloading data from https://storage.googleapis.com/tensorflow/tf-keras-datasets/mnist.npz\n",
      "11490434/11490434 [==============================] - 1s 0us/step\n"
     ]
    }
   ],
   "source": [
    "dataset = mnist.load_data()\n",
    "\n",
    "(Xtrain, ytrain), (Xtest, ytest) = dataset\n",
    "\n",
    "n_train = len(Xtrain)\n",
    "n_test = len(Xtest)\n",
    "\n",
    "n_features = 28*28\n",
    "\n",
    "Xtrain = Xtrain.reshape( n_train, n_features )\n",
    "Xtest  = Xtest.reshape( n_test, n_features )"
   ]
  },
  {
   "cell_type": "code",
   "execution_count": 4,
   "metadata": {
    "ExecuteTime": {
     "end_time": "2018-11-13T15:29:02.781102Z",
     "start_time": "2018-11-13T15:29:02.369623Z"
    }
   },
   "outputs": [
    {
     "data": {
      "text/plain": [
       "(784,)"
      ]
     },
     "execution_count": 4,
     "metadata": {},
     "output_type": "execute_result"
    }
   ],
   "source": [
    "Xtrain[0].shape"
   ]
  },
  {
   "cell_type": "code",
   "execution_count": 5,
   "metadata": {},
   "outputs": [
    {
     "data": {
      "text/plain": [
       "784"
      ]
     },
     "execution_count": 5,
     "metadata": {},
     "output_type": "execute_result"
    }
   ],
   "source": [
    "28*28"
   ]
  },
  {
   "cell_type": "code",
   "execution_count": 6,
   "metadata": {},
   "outputs": [],
   "source": [
    "from matplotlib import pyplot as plt\n",
    "import numpy as np"
   ]
  },
  {
   "cell_type": "code",
   "execution_count": 7,
   "metadata": {},
   "outputs": [
    {
     "data": {
      "image/png": "[encoded data removed]",
      "text/plain": [
       "<Figure size 640x480 with 1 Axes>"
      ]
     },
     "metadata": {},
     "output_type": "display_data"
    }
   ],
   "source": [
    "plt.imshow( np.reshape( Xtest[0], (28,28) ) , cmap=plt.cm.gray)\n",
    "plt.show()"
   ]
  },
  {
   "cell_type": "code",
   "execution_count": 8,
   "metadata": {
    "ExecuteTime": {
     "end_time": "2018-11-13T15:29:02.787949Z",
     "start_time": "2018-11-13T15:29:02.783514Z"
    }
   },
   "outputs": [
    {
     "data": {
      "text/plain": [
       "(60000, 784)"
      ]
     },
     "execution_count": 8,
     "metadata": {},
     "output_type": "execute_result"
    }
   ],
   "source": [
    "Xtrain.shape"
   ]
  },
  {
   "cell_type": "code",
   "execution_count": 9,
   "metadata": {
    "ExecuteTime": {
     "end_time": "2018-11-13T15:29:17.565311Z",
     "start_time": "2018-11-13T15:29:17.559317Z"
    }
   },
   "outputs": [
    {
     "data": {
      "text/plain": [
       "(10000, 784)"
      ]
     },
     "execution_count": 9,
     "metadata": {},
     "output_type": "execute_result"
    }
   ],
   "source": [
    "Xtest.shape"
   ]
  },
  {
   "cell_type": "code",
   "execution_count": 10,
   "metadata": {},
   "outputs": [
    {
     "data": {
      "text/plain": [
       "(10000,)"
      ]
     },
     "execution_count": 10,
     "metadata": {},
     "output_type": "execute_result"
    }
   ],
   "source": [
    "ytest.shape"
   ]
  },
  {
   "cell_type": "code",
   "execution_count": 11,
   "metadata": {},
   "outputs": [
    {
     "data": {
      "text/plain": [
       "7"
      ]
     },
     "execution_count": 11,
     "metadata": {},
     "output_type": "execute_result"
    }
   ],
   "source": [
    "ytest[0]"
   ]
  },
  {
   "cell_type": "code",
   "execution_count": 12,
   "metadata": {
    "ExecuteTime": {
     "end_time": "2018-11-13T15:29:32.437992Z",
     "start_time": "2018-11-13T15:29:32.433262Z"
    }
   },
   "outputs": [],
   "source": [
    "from sklearn.neural_network import MLPClassifier"
   ]
  },
  {
   "cell_type": "code",
   "execution_count": 13,
   "metadata": {
    "ExecuteTime": {
     "end_time": "2018-11-13T15:45:27.566378Z",
     "start_time": "2018-11-13T15:45:27.562418Z"
    }
   },
   "outputs": [],
   "source": [
    "clf = MLPClassifier(hidden_layer_sizes=(100,100,100,50), verbose=True)"
   ]
  },
  {
   "cell_type": "code",
   "execution_count": 14,
   "metadata": {},
   "outputs": [],
   "source": [
    "# check info on MLPClassifer in sklearn\n",
    "# https://scikit-learn.org/stable/modules/generated/sklearn.neural_network.MLPClassifier.html"
   ]
  },
  {
   "cell_type": "code",
   "execution_count": 15,
   "metadata": {
    "ExecuteTime": {
     "end_time": "2018-11-13T15:46:02.148932Z",
     "start_time": "2018-11-13T15:45:28.037088Z"
    }
   },
   "outputs": [
    {
     "name": "stdout",
     "output_type": "stream",
     "text": [
      "Iteration 1, loss = 1.37028346\n",
      "Iteration 2, loss = 0.30050865\n",
      "Iteration 3, loss = 0.20533834\n",
      "Iteration 4, loss = 0.15669766\n",
      "Iteration 5, loss = 0.12502393\n",
      "Iteration 6, loss = 0.10876502\n",
      "Iteration 7, loss = 0.09281221\n",
      "Iteration 8, loss = 0.08691159\n",
      "Iteration 9, loss = 0.08139956\n",
      "Iteration 10, loss = 0.07277512\n",
      "Iteration 11, loss = 0.07056311\n",
      "Iteration 12, loss = 0.06682378\n",
      "Iteration 13, loss = 0.06331894\n",
      "Iteration 14, loss = 0.05702634\n",
      "Iteration 15, loss = 0.05486570\n",
      "Iteration 16, loss = 0.04986164\n",
      "Iteration 17, loss = 0.04882029\n",
      "Iteration 18, loss = 0.04367723\n",
      "Iteration 19, loss = 0.04269516\n",
      "Iteration 20, loss = 0.04436460\n",
      "Iteration 21, loss = 0.04136992\n",
      "Iteration 22, loss = 0.03418692\n",
      "Iteration 23, loss = 0.02782387\n",
      "Iteration 24, loss = 0.03764072\n",
      "Iteration 25, loss = 0.03797407\n",
      "Iteration 26, loss = 0.02959650\n",
      "Iteration 27, loss = 0.03250289\n",
      "Iteration 28, loss = 0.02478105\n",
      "Iteration 29, loss = 0.02883889\n",
      "Iteration 30, loss = 0.03089769\n",
      "Iteration 31, loss = 0.02511213\n",
      "Iteration 32, loss = 0.02219102\n",
      "Iteration 33, loss = 0.02759905\n",
      "Iteration 34, loss = 0.02568777\n",
      "Iteration 35, loss = 0.02242909\n",
      "Iteration 36, loss = 0.02352725\n",
      "Iteration 37, loss = 0.01949389\n",
      "Iteration 38, loss = 0.02002497\n",
      "Iteration 39, loss = 0.01506018\n",
      "Iteration 40, loss = 0.02075259\n",
      "Iteration 41, loss = 0.02489460\n",
      "Iteration 42, loss = 0.01866759\n",
      "Iteration 43, loss = 0.01900420\n",
      "Iteration 44, loss = 0.02229654\n",
      "Iteration 45, loss = 0.01685440\n",
      "Iteration 46, loss = 0.01586085\n",
      "Iteration 47, loss = 0.01648380\n",
      "Iteration 48, loss = 0.01832944\n",
      "Iteration 49, loss = 0.01416104\n",
      "Iteration 50, loss = 0.01477993\n",
      "Iteration 51, loss = 0.01415522\n",
      "Iteration 52, loss = 0.01994792\n",
      "Iteration 53, loss = 0.01955964\n",
      "Iteration 54, loss = 0.01438372\n",
      "Iteration 55, loss = 0.01085451\n",
      "Iteration 56, loss = 0.01202664\n",
      "Iteration 57, loss = 0.01390310\n",
      "Iteration 58, loss = 0.01334406\n",
      "Iteration 59, loss = 0.01688586\n",
      "Iteration 60, loss = 0.02081598\n",
      "Iteration 61, loss = 0.01538349\n",
      "Iteration 62, loss = 0.00979396\n",
      "Iteration 63, loss = 0.01067610\n",
      "Iteration 64, loss = 0.01248303\n",
      "Iteration 65, loss = 0.01329965\n",
      "Iteration 66, loss = 0.01677798\n",
      "Iteration 67, loss = 0.01208198\n",
      "Iteration 68, loss = 0.00776747\n",
      "Iteration 69, loss = 0.01311260\n",
      "Iteration 70, loss = 0.01094420\n",
      "Iteration 71, loss = 0.01338784\n",
      "Iteration 72, loss = 0.01683758\n",
      "Iteration 73, loss = 0.00700216\n",
      "Iteration 74, loss = 0.00641952\n",
      "Iteration 75, loss = 0.01968126\n",
      "Iteration 76, loss = 0.01165106\n",
      "Iteration 77, loss = 0.01119661\n",
      "Iteration 78, loss = 0.01544117\n",
      "Iteration 79, loss = 0.00866463\n",
      "Iteration 80, loss = 0.01142883\n",
      "Iteration 81, loss = 0.01158777\n",
      "Iteration 82, loss = 0.01341902\n",
      "Iteration 83, loss = 0.00876501\n",
      "Iteration 84, loss = 0.00699588\n",
      "Iteration 85, loss = 0.00896312\n",
      "Training loss did not improve more than tol=0.000100 for 10 consecutive epochs. Stopping.\n"
     ]
    },
    {
     "data": {
      "text/html": [
       "<style>#sk-container-id-1 {color: black;}#sk-container-id-1 pre{padding: 0;}#sk-container-id-1 div.sk-toggleable {background-color: white;}#sk-container-id-1 label.sk-toggleable__label {cursor: pointer;display: block;width: 100%;margin-bottom: 0;padding: 0.3em;box-sizing: border-box;text-align: center;}#sk-container-id-1 label.sk-toggleable__label-arrow:before {content: \"▸\";float: left;margin-right: 0.25em;color: #696969;}#sk-container-id-1 label.sk-toggleable__label-arrow:hover:before {color: black;}#sk-container-id-1 div.sk-estimator:hover label.sk-toggleable__label-arrow:before {color: black;}#sk-container-id-1 div.sk-toggleable__content {max-height: 0;max-width: 0;overflow: hidden;text-align: left;background-color: #f0f8ff;}#sk-container-id-1 div.sk-toggleable__content pre {margin: 0.2em;color: black;border-radius: 0.25em;background-color: #f0f8ff;}#sk-container-id-1 input.sk-toggleable__control:checked~div.sk-toggleable__content {max-height: 200px;max-width: 100%;overflow: auto;}#sk-container-id-1 input.sk-toggleable__control:checked~label.sk-toggleable__label-arrow:before {content: \"▾\";}#sk-container-id-1 div.sk-estimator input.sk-toggleable__control:checked~label.sk-toggleable__label {background-color: #d4ebff;}#sk-container-id-1 div.sk-label input.sk-toggleable__control:checked~label.sk-toggleable__label {background-color: #d4ebff;}#sk-container-id-1 input.sk-hidden--visually {border: 0;clip: rect(1px 1px 1px 1px);clip: rect(1px, 1px, 1px, 1px);height: 1px;margin: -1px;overflow: hidden;padding: 0;position: absolute;width: 1px;}#sk-container-id-1 div.sk-estimator {font-family: monospace;background-color: #f0f8ff;border: 1px dotted black;border-radius: 0.25em;box-sizing: border-box;margin-bottom: 0.5em;}#sk-container-id-1 div.sk-estimator:hover {background-color: #d4ebff;}#sk-container-id-1 div.sk-parallel-item::after {content: \"\";width: 100%;border-bottom: 1px solid gray;flex-grow: 1;}#sk-container-id-1 div.sk-label:hover label.sk-toggleable__label {background-color: #d4ebff;}#sk-container-id-1 div.sk-serial::before {content: \"\";position: absolute;border-left: 1px solid gray;box-sizing: border-box;top: 0;bottom: 0;left: 50%;z-index: 0;}#sk-container-id-1 div.sk-serial {display: flex;flex-direction: column;align-items: center;background-color: white;padding-right: 0.2em;padding-left: 0.2em;position: relative;}#sk-container-id-1 div.sk-item {position: relative;z-index: 1;}#sk-container-id-1 div.sk-parallel {display: flex;align-items: stretch;justify-content: center;background-color: white;position: relative;}#sk-container-id-1 div.sk-item::before, #sk-container-id-1 div.sk-parallel-item::before {content: \"\";position: absolute;border-left: 1px solid gray;box-sizing: border-box;top: 0;bottom: 0;left: 50%;z-index: -1;}#sk-container-id-1 div.sk-parallel-item {display: flex;flex-direction: column;z-index: 1;position: relative;background-color: white;}#sk-container-id-1 div.sk-parallel-item:first-child::after {align-self: flex-end;width: 50%;}#sk-container-id-1 div.sk-parallel-item:last-child::after {align-self: flex-start;width: 50%;}#sk-container-id-1 div.sk-parallel-item:only-child::after {width: 0;}#sk-container-id-1 div.sk-dashed-wrapped {border: 1px dashed gray;margin: 0 0.4em 0.5em 0.4em;box-sizing: border-box;padding-bottom: 0.4em;background-color: white;}#sk-container-id-1 div.sk-label label {font-family: monospace;font-weight: bold;display: inline-block;line-height: 1.2em;}#sk-container-id-1 div.sk-label-container {text-align: center;}#sk-container-id-1 div.sk-container {/* jupyter's `normalize.less` sets `[hidden] { display: none; }` but bootstrap.min.css set `[hidden] { display: none !important; }` so we also need the `!important` here to be able to override the default hidden behavior on the sphinx rendered scikit-learn.org. See: https://github.com/scikit-learn/scikit-learn/issues/21755 */display: inline-block !important;position: relative;}#sk-container-id-1 div.sk-text-repr-fallback {display: none;}</style><div id=\"sk-container-id-1\" class=\"sk-top-container\"><div class=\"sk-text-repr-fallback\"><pre>MLPClassifier(hidden_layer_sizes=(100, 100, 100, 50), verbose=True)</pre><b>In a Jupyter environment, please rerun this cell to show the HTML representation or trust the notebook. <br />On GitHub, the HTML representation is unable to render, please try loading this page with nbviewer.org.</b></div><div class=\"sk-container\" hidden><div class=\"sk-item\"><div class=\"sk-estimator sk-toggleable\"><input class=\"sk-toggleable__control sk-hidden--visually\" id=\"sk-estimator-id-1\" type=\"checkbox\" checked><label for=\"sk-estimator-id-1\" class=\"sk-toggleable__label sk-toggleable__label-arrow\">MLPClassifier</label><div class=\"sk-toggleable__content\"><pre>MLPClassifier(hidden_layer_sizes=(100, 100, 100, 50), verbose=True)</pre></div></div></div></div></div>"
      ],
      "text/plain": [
       "MLPClassifier(hidden_layer_sizes=(100, 100, 100, 50), verbose=True)"
      ]
     },
     "execution_count": 15,
     "metadata": {},
     "output_type": "execute_result"
    }
   ],
   "source": [
    "clf.fit(Xtrain, ytrain)"
   ]
  },
  {
   "cell_type": "code",
   "execution_count": 16,
   "metadata": {},
   "outputs": [
    {
     "name": "stdout",
     "output_type": "stream",
     "text": [
      "Help on MLPClassifier in module sklearn.neural_network._multilayer_perceptron object:\n",
      "\n",
      "class MLPClassifier(sklearn.base.ClassifierMixin, BaseMultilayerPerceptron)\n",
      " |  MLPClassifier(hidden_layer_sizes=(100,), activation='relu', *, solver='adam', alpha=0.0001, batch_size='auto', learning_rate='constant', learning_rate_init=0.001, power_t=0.5, max_iter=200, shuffle=True, random_state=None, tol=0.0001, verbose=False, warm_start=False, momentum=0.9, nesterovs_momentum=True, early_stopping=False, validation_fraction=0.1, beta_1=0.9, beta_2=0.999, epsilon=1e-08, n_iter_no_change=10, max_fun=15000)\n",
      " |  \n",
      " |  Multi-layer Perceptron classifier.\n",
      " |  \n",
      " |  This model optimizes the log-loss function using LBFGS or stochastic\n",
      " |  gradient descent.\n",
      " |  \n",
      " |  .. versionadded:: 0.18\n",
      " |  \n",
      " |  Parameters\n",
      " |  ----------\n",
      " |  hidden_layer_sizes : array-like of shape(n_layers - 2,), default=(100,)\n",
      " |      The ith element represents the number of neurons in the ith\n",
      " |      hidden layer.\n",
      " |  \n",
      " |  activation : {'identity', 'logistic', 'tanh', 'relu'}, default='relu'\n",
      " |      Activation function for the hidden layer.\n",
      " |  \n",
      " |      - 'identity', no-op activation, useful to implement linear bottleneck,\n",
      " |        returns f(x) = x\n",
      " |  \n",
      " |      - 'logistic', the logistic sigmoid function,\n",
      " |        returns f(x) = 1 / (1 + exp(-x)).\n",
      " |  \n",
      " |      - 'tanh', the hyperbolic tan function,\n",
      " |        returns f(x) = tanh(x).\n",
      " |  \n",
      " |      - 'relu', the rectified linear unit function,\n",
      " |        returns f(x) = max(0, x)\n",
      " |  \n",
      " |  solver : {'lbfgs', 'sgd', 'adam'}, default='adam'\n",
      " |      The solver for weight optimization.\n",
      " |  \n",
      " |      - 'lbfgs' is an optimizer in the family of quasi-Newton methods.\n",
      " |  \n",
      " |      - 'sgd' refers to stochastic gradient descent.\n",
      " |  \n",
      " |      - 'adam' refers to a stochastic gradient-based optimizer proposed\n",
      " |        by Kingma, Diederik, and Jimmy Ba\n",
      " |  \n",
      " |      Note: The default solver 'adam' works pretty well on relatively\n",
      " |      large datasets (with thousands of training samples or more) in terms of\n",
      " |      both training time and validation score.\n",
      " |      For small datasets, however, 'lbfgs' can converge faster and perform\n",
      " |      better.\n",
      " |  \n",
      " |  alpha : float, default=0.0001\n",
      " |      Strength of the L2 regularization term. The L2 regularization term\n",
      " |      is divided by the sample size when added to the loss.\n",
      " |  \n",
      " |  batch_size : int, default='auto'\n",
      " |      Size of minibatches for stochastic optimizers.\n",
      " |      If the solver is 'lbfgs', the classifier will not use minibatch.\n",
      " |      When set to \"auto\", `batch_size=min(200, n_samples)`.\n",
      " |  \n",
      " |  learning_rate : {'constant', 'invscaling', 'adaptive'}, default='constant'\n",
      " |      Learning rate schedule for weight updates.\n",
      " |  \n",
      " |      - 'constant' is a constant learning rate given by\n",
      " |        'learning_rate_init'.\n",
      " |  \n",
      " |      - 'invscaling' gradually decreases the learning rate at each\n",
      " |        time step 't' using an inverse scaling exponent of 'power_t'.\n",
      " |        effective_learning_rate = learning_rate_init / pow(t, power_t)\n",
      " |  \n",
      " |      - 'adaptive' keeps the learning rate constant to\n",
      " |        'learning_rate_init' as long as training loss keeps decreasing.\n",
      " |        Each time two consecutive epochs fail to decrease training loss by at\n",
      " |        least tol, or fail to increase validation score by at least tol if\n",
      " |        'early_stopping' is on, the current learning rate is divided by 5.\n",
      " |  \n",
      " |      Only used when ``solver='sgd'``.\n",
      " |  \n",
      " |  learning_rate_init : float, default=0.001\n",
      " |      The initial learning rate used. It controls the step-size\n",
      " |      in updating the weights. Only used when solver='sgd' or 'adam'.\n",
      " |  \n",
      " |  power_t : float, default=0.5\n",
      " |      The exponent for inverse scaling learning rate.\n",
      " |      It is used in updating effective learning rate when the learning_rate\n",
      " |      is set to 'invscaling'. Only used when solver='sgd'.\n",
      " |  \n",
      " |  max_iter : int, default=200\n",
      " |      Maximum number of iterations. The solver iterates until convergence\n",
      " |      (determined by 'tol') or this number of iterations. For stochastic\n",
      " |      solvers ('sgd', 'adam'), note that this determines the number of epochs\n",
      " |      (how many times each data point will be used), not the number of\n",
      " |      gradient steps.\n",
      " |  \n",
      " |  shuffle : bool, default=True\n",
      " |      Whether to shuffle samples in each iteration. Only used when\n",
      " |      solver='sgd' or 'adam'.\n",
      " |  \n",
      " |  random_state : int, RandomState instance, default=None\n",
      " |      Determines random number generation for weights and bias\n",
      " |      initialization, train-test split if early stopping is used, and batch\n",
      " |      sampling when solver='sgd' or 'adam'.\n",
      " |      Pass an int for reproducible results across multiple function calls.\n",
      " |      See :term:`Glossary <random_state>`.\n",
      " |  \n",
      " |  tol : float, default=1e-4\n",
      " |      Tolerance for the optimization. When the loss or score is not improving\n",
      " |      by at least ``tol`` for ``n_iter_no_change`` consecutive iterations,\n",
      " |      unless ``learning_rate`` is set to 'adaptive', convergence is\n",
      " |      considered to be reached and training stops.\n",
      " |  \n",
      " |  verbose : bool, default=False\n",
      " |      Whether to print progress messages to stdout.\n",
      " |  \n",
      " |  warm_start : bool, default=False\n",
      " |      When set to True, reuse the solution of the previous\n",
      " |      call to fit as initialization, otherwise, just erase the\n",
      " |      previous solution. See :term:`the Glossary <warm_start>`.\n",
      " |  \n",
      " |  momentum : float, default=0.9\n",
      " |      Momentum for gradient descent update. Should be between 0 and 1. Only\n",
      " |      used when solver='sgd'.\n",
      " |  \n",
      " |  nesterovs_momentum : bool, default=True\n",
      " |      Whether to use Nesterov's momentum. Only used when solver='sgd' and\n",
      " |      momentum > 0.\n",
      " |  \n",
      " |  early_stopping : bool, default=False\n",
      " |      Whether to use early stopping to terminate training when validation\n",
      " |      score is not improving. If set to true, it will automatically set\n",
      " |      aside 10% of training data as validation and terminate training when\n",
      " |      validation score is not improving by at least tol for\n",
      " |      ``n_iter_no_change`` consecutive epochs. The split is stratified,\n",
      " |      except in a multilabel setting.\n",
      " |      If early stopping is False, then the training stops when the training\n",
      " |      loss does not improve by more than tol for n_iter_no_change consecutive\n",
      " |      passes over the training set.\n",
      " |      Only effective when solver='sgd' or 'adam'.\n",
      " |  \n",
      " |  validation_fraction : float, default=0.1\n",
      " |      The proportion of training data to set aside as validation set for\n",
      " |      early stopping. Must be between 0 and 1.\n",
      " |      Only used if early_stopping is True.\n",
      " |  \n",
      " |  beta_1 : float, default=0.9\n",
      " |      Exponential decay rate for estimates of first moment vector in adam,\n",
      " |      should be in [0, 1). Only used when solver='adam'.\n",
      " |  \n",
      " |  beta_2 : float, default=0.999\n",
      " |      Exponential decay rate for estimates of second moment vector in adam,\n",
      " |      should be in [0, 1). Only used when solver='adam'.\n",
      " |  \n",
      " |  epsilon : float, default=1e-8\n",
      " |      Value for numerical stability in adam. Only used when solver='adam'.\n",
      " |  \n",
      " |  n_iter_no_change : int, default=10\n",
      " |      Maximum number of epochs to not meet ``tol`` improvement.\n",
      " |      Only effective when solver='sgd' or 'adam'.\n",
      " |  \n",
      " |      .. versionadded:: 0.20\n",
      " |  \n",
      " |  max_fun : int, default=15000\n",
      " |      Only used when solver='lbfgs'. Maximum number of loss function calls.\n",
      " |      The solver iterates until convergence (determined by 'tol'), number\n",
      " |      of iterations reaches max_iter, or this number of loss function calls.\n",
      " |      Note that number of loss function calls will be greater than or equal\n",
      " |      to the number of iterations for the `MLPClassifier`.\n",
      " |  \n",
      " |      .. versionadded:: 0.22\n",
      " |  \n",
      " |  Attributes\n",
      " |  ----------\n",
      " |  classes_ : ndarray or list of ndarray of shape (n_classes,)\n",
      " |      Class labels for each output.\n",
      " |  \n",
      " |  loss_ : float\n",
      " |      The current loss computed with the loss function.\n",
      " |  \n",
      " |  best_loss_ : float or None\n",
      " |      The minimum loss reached by the solver throughout fitting.\n",
      " |      If `early_stopping=True`, this attribute is set to `None`. Refer to\n",
      " |      the `best_validation_score_` fitted attribute instead.\n",
      " |  \n",
      " |  loss_curve_ : list of shape (`n_iter_`,)\n",
      " |      The ith element in the list represents the loss at the ith iteration.\n",
      " |  \n",
      " |  validation_scores_ : list of shape (`n_iter_`,) or None\n",
      " |      The score at each iteration on a held-out validation set. The score\n",
      " |      reported is the accuracy score. Only available if `early_stopping=True`,\n",
      " |      otherwise the attribute is set to `None`.\n",
      " |  \n",
      " |  best_validation_score_ : float or None\n",
      " |      The best validation score (i.e. accuracy score) that triggered the\n",
      " |      early stopping. Only available if `early_stopping=True`, otherwise the\n",
      " |      attribute is set to `None`.\n",
      " |  \n",
      " |  t_ : int\n",
      " |      The number of training samples seen by the solver during fitting.\n",
      " |  \n",
      " |  coefs_ : list of shape (n_layers - 1,)\n",
      " |      The ith element in the list represents the weight matrix corresponding\n",
      " |      to layer i.\n",
      " |  \n",
      " |  intercepts_ : list of shape (n_layers - 1,)\n",
      " |      The ith element in the list represents the bias vector corresponding to\n",
      " |      layer i + 1.\n",
      " |  \n",
      " |  n_features_in_ : int\n",
      " |      Number of features seen during :term:`fit`.\n",
      " |  \n",
      " |      .. versionadded:: 0.24\n",
      " |  \n",
      " |  feature_names_in_ : ndarray of shape (`n_features_in_`,)\n",
      " |      Names of features seen during :term:`fit`. Defined only when `X`\n",
      " |      has feature names that are all strings.\n",
      " |  \n",
      " |      .. versionadded:: 1.0\n",
      " |  \n",
      " |  n_iter_ : int\n",
      " |      The number of iterations the solver has run.\n",
      " |  \n",
      " |  n_layers_ : int\n",
      " |      Number of layers.\n",
      " |  \n",
      " |  n_outputs_ : int\n",
      " |      Number of outputs.\n",
      " |  \n",
      " |  out_activation_ : str\n",
      " |      Name of the output activation function.\n",
      " |  \n",
      " |  See Also\n",
      " |  --------\n",
      " |  MLPRegressor : Multi-layer Perceptron regressor.\n",
      " |  BernoulliRBM : Bernoulli Restricted Boltzmann Machine (RBM).\n",
      " |  \n",
      " |  Notes\n",
      " |  -----\n",
      " |  MLPClassifier trains iteratively since at each time step\n",
      " |  the partial derivatives of the loss function with respect to the model\n",
      " |  parameters are computed to update the parameters.\n",
      " |  \n",
      " |  It can also have a regularization term added to the loss function\n",
      " |  that shrinks model parameters to prevent overfitting.\n",
      " |  \n",
      " |  This implementation works with data represented as dense numpy arrays or\n",
      " |  sparse scipy arrays of floating point values.\n",
      " |  \n",
      " |  References\n",
      " |  ----------\n",
      " |  Hinton, Geoffrey E. \"Connectionist learning procedures.\"\n",
      " |  Artificial intelligence 40.1 (1989): 185-234.\n",
      " |  \n",
      " |  Glorot, Xavier, and Yoshua Bengio.\n",
      " |  \"Understanding the difficulty of training deep feedforward neural networks.\"\n",
      " |  International Conference on Artificial Intelligence and Statistics. 2010.\n",
      " |  \n",
      " |  :arxiv:`He, Kaiming, et al (2015). \"Delving deep into rectifiers:\n",
      " |  Surpassing human-level performance on imagenet classification.\" <1502.01852>`\n",
      " |  \n",
      " |  :arxiv:`Kingma, Diederik, and Jimmy Ba (2014)\n",
      " |  \"Adam: A method for stochastic optimization.\" <1412.6980>`\n",
      " |  \n",
      " |  Examples\n",
      " |  --------\n",
      " |  >>> from sklearn.neural_network import MLPClassifier\n",
      " |  >>> from sklearn.datasets import make_classification\n",
      " |  >>> from sklearn.model_selection import train_test_split\n",
      " |  >>> X, y = make_classification(n_samples=100, random_state=1)\n",
      " |  >>> X_train, X_test, y_train, y_test = train_test_split(X, y, stratify=y,\n",
      " |  ...                                                     random_state=1)\n",
      " |  >>> clf = MLPClassifier(random_state=1, max_iter=300).fit(X_train, y_train)\n",
      " |  >>> clf.predict_proba(X_test[:1])\n",
      " |  array([[0.038..., 0.961...]])\n",
      " |  >>> clf.predict(X_test[:5, :])\n",
      " |  array([1, 0, 1, 0, 1])\n",
      " |  >>> clf.score(X_test, y_test)\n",
      " |  0.8...\n",
      " |  \n",
      " |  Method resolution order:\n",
      " |      MLPClassifier\n",
      " |      sklearn.base.ClassifierMixin\n",
      " |      BaseMultilayerPerceptron\n",
      " |      sklearn.base.BaseEstimator\n",
      " |      sklearn.utils._metadata_requests._MetadataRequester\n",
      " |      builtins.object\n",
      " |  \n",
      " |  Methods defined here:\n",
      " |  \n",
      " |  __init__(self, hidden_layer_sizes=(100,), activation='relu', *, solver='adam', alpha=0.0001, batch_size='auto', learning_rate='constant', learning_rate_init=0.001, power_t=0.5, max_iter=200, shuffle=True, random_state=None, tol=0.0001, verbose=False, warm_start=False, momentum=0.9, nesterovs_momentum=True, early_stopping=False, validation_fraction=0.1, beta_1=0.9, beta_2=0.999, epsilon=1e-08, n_iter_no_change=10, max_fun=15000)\n",
      " |      Initialize self.  See help(type(self)) for accurate signature.\n",
      " |  \n",
      " |  partial_fit(self, X, y, classes=None)\n",
      " |      Update the model with a single iteration over the given data.\n",
      " |      \n",
      " |      Parameters\n",
      " |      ----------\n",
      " |      X : {array-like, sparse matrix} of shape (n_samples, n_features)\n",
      " |          The input data.\n",
      " |      \n",
      " |      y : array-like of shape (n_samples,)\n",
      " |          The target values.\n",
      " |      \n",
      " |      classes : array of shape (n_classes,), default=None\n",
      " |          Classes across all calls to partial_fit.\n",
      " |          Can be obtained via `np.unique(y_all)`, where y_all is the\n",
      " |          target vector of the entire dataset.\n",
      " |          This argument is required for the first call to partial_fit\n",
      " |          and can be omitted in the subsequent calls.\n",
      " |          Note that y doesn't need to contain all labels in `classes`.\n",
      " |      \n",
      " |      Returns\n",
      " |      -------\n",
      " |      self : object\n",
      " |          Trained MLP model.\n",
      " |  \n",
      " |  predict(self, X)\n",
      " |      Predict using the multi-layer perceptron classifier.\n",
      " |      \n",
      " |      Parameters\n",
      " |      ----------\n",
      " |      X : {array-like, sparse matrix} of shape (n_samples, n_features)\n",
      " |          The input data.\n",
      " |      \n",
      " |      Returns\n",
      " |      -------\n",
      " |      y : ndarray, shape (n_samples,) or (n_samples, n_classes)\n",
      " |          The predicted classes.\n",
      " |  \n",
      " |  predict_log_proba(self, X)\n",
      " |      Return the log of probability estimates.\n",
      " |      \n",
      " |      Parameters\n",
      " |      ----------\n",
      " |      X : ndarray of shape (n_samples, n_features)\n",
      " |          The input data.\n",
      " |      \n",
      " |      Returns\n",
      " |      -------\n",
      " |      log_y_prob : ndarray of shape (n_samples, n_classes)\n",
      " |          The predicted log-probability of the sample for each class\n",
      " |          in the model, where classes are ordered as they are in\n",
      " |          `self.classes_`. Equivalent to `log(predict_proba(X))`.\n",
      " |  \n",
      " |  predict_proba(self, X)\n",
      " |      Probability estimates.\n",
      " |      \n",
      " |      Parameters\n",
      " |      ----------\n",
      " |      X : {array-like, sparse matrix} of shape (n_samples, n_features)\n",
      " |          The input data.\n",
      " |      \n",
      " |      Returns\n",
      " |      -------\n",
      " |      y_prob : ndarray of shape (n_samples, n_classes)\n",
      " |          The predicted probability of the sample for each class in the\n",
      " |          model, where classes are ordered as they are in `self.classes_`.\n",
      " |  \n",
      " |  set_partial_fit_request(self: sklearn.neural_network._multilayer_perceptron.MLPClassifier, *, classes: Union[bool, NoneType, str] = '$UNCHANGED$') -> sklearn.neural_network._multilayer_perceptron.MLPClassifier\n",
      " |      Request metadata passed to the ``partial_fit`` method.\n",
      " |      \n",
      " |      Note that this method is only relevant if\n",
      " |      ``enable_metadata_routing=True`` (see :func:`sklearn.set_config`).\n",
      " |      Please see :ref:`User Guide <metadata_routing>` on how the routing\n",
      " |      mechanism works.\n",
      " |      \n",
      " |      The options for each parameter are:\n",
      " |      \n",
      " |      - ``True``: metadata is requested, and passed to ``partial_fit`` if provided. The request is ignored if metadata is not provided.\n",
      " |      \n",
      " |      - ``False``: metadata is not requested and the meta-estimator will not pass it to ``partial_fit``.\n",
      " |      \n",
      " |      - ``None``: metadata is not requested, and the meta-estimator will raise an error if the user provides it.\n",
      " |      \n",
      " |      - ``str``: metadata should be passed to the meta-estimator with this given alias instead of the original name.\n",
      " |      \n",
      " |      The default (``sklearn.utils.metadata_routing.UNCHANGED``) retains the\n",
      " |      existing request. This allows you to change the request for some\n",
      " |      parameters and not others.\n",
      " |      \n",
      " |      .. versionadded:: 1.3\n",
      " |      \n",
      " |      .. note::\n",
      " |          This method is only relevant if this estimator is used as a\n",
      " |          sub-estimator of a meta-estimator, e.g. used inside a\n",
      " |          :class:`pipeline.Pipeline`. Otherwise it has no effect.\n",
      " |      \n",
      " |      Parameters\n",
      " |      ----------\n",
      " |      classes : str, True, False, or None,                     default=sklearn.utils.metadata_routing.UNCHANGED\n",
      " |          Metadata routing for ``classes`` parameter in ``partial_fit``.\n",
      " |      \n",
      " |      Returns\n",
      " |      -------\n",
      " |      self : object\n",
      " |          The updated object.\n",
      " |  \n",
      " |  set_score_request(self: sklearn.neural_network._multilayer_perceptron.MLPClassifier, *, sample_weight: Union[bool, NoneType, str] = '$UNCHANGED$') -> sklearn.neural_network._multilayer_perceptron.MLPClassifier\n",
      " |      Request metadata passed to the ``score`` method.\n",
      " |      \n",
      " |      Note that this method is only relevant if\n",
      " |      ``enable_metadata_routing=True`` (see :func:`sklearn.set_config`).\n",
      " |      Please see :ref:`User Guide <metadata_routing>` on how the routing\n",
      " |      mechanism works.\n",
      " |      \n",
      " |      The options for each parameter are:\n",
      " |      \n",
      " |      - ``True``: metadata is requested, and passed to ``score`` if provided. The request is ignored if metadata is not provided.\n",
      " |      \n",
      " |      - ``False``: metadata is not requested and the meta-estimator will not pass it to ``score``.\n",
      " |      \n",
      " |      - ``None``: metadata is not requested, and the meta-estimator will raise an error if the user provides it.\n",
      " |      \n",
      " |      - ``str``: metadata should be passed to the meta-estimator with this given alias instead of the original name.\n",
      " |      \n",
      " |      The default (``sklearn.utils.metadata_routing.UNCHANGED``) retains the\n",
      " |      existing request. This allows you to change the request for some\n",
      " |      parameters and not others.\n",
      " |      \n",
      " |      .. versionadded:: 1.3\n",
      " |      \n",
      " |      .. note::\n",
      " |          This method is only relevant if this estimator is used as a\n",
      " |          sub-estimator of a meta-estimator, e.g. used inside a\n",
      " |          :class:`pipeline.Pipeline`. Otherwise it has no effect.\n",
      " |      \n",
      " |      Parameters\n",
      " |      ----------\n",
      " |      sample_weight : str, True, False, or None,                     default=sklearn.utils.metadata_routing.UNCHANGED\n",
      " |          Metadata routing for ``sample_weight`` parameter in ``score``.\n",
      " |      \n",
      " |      Returns\n",
      " |      -------\n",
      " |      self : object\n",
      " |          The updated object.\n",
      " |  \n",
      " |  ----------------------------------------------------------------------\n",
      " |  Data and other attributes defined here:\n",
      " |  \n",
      " |  __abstractmethods__ = frozenset()\n",
      " |  \n",
      " |  __annotations__ = {}\n",
      " |  \n",
      " |  ----------------------------------------------------------------------\n",
      " |  Methods inherited from sklearn.base.ClassifierMixin:\n",
      " |  \n",
      " |  score(self, X, y, sample_weight=None)\n",
      " |      Return the mean accuracy on the given test data and labels.\n",
      " |      \n",
      " |      In multi-label classification, this is the subset accuracy\n",
      " |      which is a harsh metric since you require for each sample that\n",
      " |      each label set be correctly predicted.\n",
      " |      \n",
      " |      Parameters\n",
      " |      ----------\n",
      " |      X : array-like of shape (n_samples, n_features)\n",
      " |          Test samples.\n",
      " |      \n",
      " |      y : array-like of shape (n_samples,) or (n_samples, n_outputs)\n",
      " |          True labels for `X`.\n",
      " |      \n",
      " |      sample_weight : array-like of shape (n_samples,), default=None\n",
      " |          Sample weights.\n",
      " |      \n",
      " |      Returns\n",
      " |      -------\n",
      " |      score : float\n",
      " |          Mean accuracy of ``self.predict(X)`` w.r.t. `y`.\n",
      " |  \n",
      " |  ----------------------------------------------------------------------\n",
      " |  Data descriptors inherited from sklearn.base.ClassifierMixin:\n",
      " |  \n",
      " |  __dict__\n",
      " |      dictionary for instance variables (if defined)\n",
      " |  \n",
      " |  __weakref__\n",
      " |      list of weak references to the object (if defined)\n",
      " |  \n",
      " |  ----------------------------------------------------------------------\n",
      " |  Methods inherited from BaseMultilayerPerceptron:\n",
      " |  \n",
      " |  fit(self, X, y)\n",
      " |      Fit the model to data matrix X and target(s) y.\n",
      " |      \n",
      " |      Parameters\n",
      " |      ----------\n",
      " |      X : ndarray or sparse matrix of shape (n_samples, n_features)\n",
      " |          The input data.\n",
      " |      \n",
      " |      y : ndarray of shape (n_samples,) or (n_samples, n_outputs)\n",
      " |          The target values (class labels in classification, real numbers in\n",
      " |          regression).\n",
      " |      \n",
      " |      Returns\n",
      " |      -------\n",
      " |      self : object\n",
      " |          Returns a trained MLP model.\n",
      " |  \n",
      " |  ----------------------------------------------------------------------\n",
      " |  Methods inherited from sklearn.base.BaseEstimator:\n",
      " |  \n",
      " |  __getstate__(self)\n",
      " |      Helper for pickle.\n",
      " |  \n",
      " |  __repr__(self, N_CHAR_MAX=700)\n",
      " |      Return repr(self).\n",
      " |  \n",
      " |  __setstate__(self, state)\n",
      " |  \n",
      " |  __sklearn_clone__(self)\n",
      " |  \n",
      " |  get_params(self, deep=True)\n",
      " |      Get parameters for this estimator.\n",
      " |      \n",
      " |      Parameters\n",
      " |      ----------\n",
      " |      deep : bool, default=True\n",
      " |          If True, will return the parameters for this estimator and\n",
      " |          contained subobjects that are estimators.\n",
      " |      \n",
      " |      Returns\n",
      " |      -------\n",
      " |      params : dict\n",
      " |          Parameter names mapped to their values.\n",
      " |  \n",
      " |  set_params(self, **params)\n",
      " |      Set the parameters of this estimator.\n",
      " |      \n",
      " |      The method works on simple estimators as well as on nested objects\n",
      " |      (such as :class:`~sklearn.pipeline.Pipeline`). The latter have\n",
      " |      parameters of the form ``<component>__<parameter>`` so that it's\n",
      " |      possible to update each component of a nested object.\n",
      " |      \n",
      " |      Parameters\n",
      " |      ----------\n",
      " |      **params : dict\n",
      " |          Estimator parameters.\n",
      " |      \n",
      " |      Returns\n",
      " |      -------\n",
      " |      self : estimator instance\n",
      " |          Estimator instance.\n",
      " |  \n",
      " |  ----------------------------------------------------------------------\n",
      " |  Methods inherited from sklearn.utils._metadata_requests._MetadataRequester:\n",
      " |  \n",
      " |  get_metadata_routing(self)\n",
      " |      Get metadata routing of this object.\n",
      " |      \n",
      " |      Please check :ref:`User Guide <metadata_routing>` on how the routing\n",
      " |      mechanism works.\n",
      " |      \n",
      " |      Returns\n",
      " |      -------\n",
      " |      routing : MetadataRequest\n",
      " |          A :class:`~utils.metadata_routing.MetadataRequest` encapsulating\n",
      " |          routing information.\n",
      " |  \n",
      " |  ----------------------------------------------------------------------\n",
      " |  Class methods inherited from sklearn.utils._metadata_requests._MetadataRequester:\n",
      " |  \n",
      " |  __init_subclass__(**kwargs) from abc.ABCMeta\n",
      " |      Set the ``set_{method}_request`` methods.\n",
      " |      \n",
      " |      This uses PEP-487 [1]_ to set the ``set_{method}_request`` methods. It\n",
      " |      looks for the information available in the set default values which are\n",
      " |      set using ``__metadata_request__*`` class attributes, or inferred\n",
      " |      from method signatures.\n",
      " |      \n",
      " |      The ``__metadata_request__*`` class attributes are used when a method\n",
      " |      does not explicitly accept a metadata through its arguments or if the\n",
      " |      developer would like to specify a request value for those metadata\n",
      " |      which are different from the default ``None``.\n",
      " |      \n",
      " |      References\n",
      " |      ----------\n",
      " |      .. [1] https://www.python.org/dev/peps/pep-0487\n",
      "\n"
     ]
    }
   ],
   "source": [
    "help(clf)"
   ]
  },
  {
   "cell_type": "code",
   "execution_count": 17,
   "metadata": {},
   "outputs": [
    {
     "name": "stdout",
     "output_type": "stream",
     "text": [
      "[array([[-4.05095031e-315,  4.77667375e-316, -2.14519939e-316, ...,\n",
      "         4.07451366e-315, -4.30279291e-316, -1.13292591e-315],\n",
      "       [-1.41690246e-315, -1.05840695e-315, -6.28653609e-316, ...,\n",
      "         2.02675006e-315,  3.07870667e-315,  7.65808129e-316],\n",
      "       [-8.99052002e-316, -4.91848590e-316,  2.40537959e-315, ...,\n",
      "        -4.91944232e-316, -2.50186048e-315, -1.90947262e-315],\n",
      "       ...,\n",
      "       [ 7.66953403e-316,  3.43535970e-315, -2.51800793e-315, ...,\n",
      "         3.52806802e-315, -6.11548206e-316,  1.16599929e-315],\n",
      "       [-3.62354548e-316,  1.20894092e-315, -4.46695488e-315, ...,\n",
      "        -1.04591116e-315,  2.27508596e-315,  4.31108684e-315],\n",
      "       [-4.83731348e-315,  2.82976192e-315,  2.63898343e-315, ...,\n",
      "         8.65947207e-316,  2.00089995e-315,  1.27738158e-316]]), array([[-0.18993183, -0.04572801,  0.03925721, ...,  0.02030817,\n",
      "         0.1945087 , -0.11090643],\n",
      "       [ 0.03105914,  0.14445275, -0.13987478, ...,  0.31802555,\n",
      "         0.132313  , -0.19261501],\n",
      "       [ 0.03100367,  0.15697595, -0.2350374 , ...,  0.02076378,\n",
      "        -0.18003243,  0.04262364],\n",
      "       ...,\n",
      "       [-0.18595388, -0.26151586,  0.11016377, ...,  0.0204199 ,\n",
      "        -0.05503352, -0.13120743],\n",
      "       [-0.22259803,  0.21140773, -0.1824535 , ..., -0.04122193,\n",
      "        -0.2799335 ,  0.00058636],\n",
      "       [ 0.02322953,  0.11337588,  0.03004541, ..., -0.0123058 ,\n",
      "         0.18122951,  0.21746107]]), array([[ 0.09011197, -0.17461799,  0.17892974, ..., -0.03173333,\n",
      "         0.0212098 , -0.20287924],\n",
      "       [ 0.1592665 , -0.17014665, -0.11213231, ...,  0.1229982 ,\n",
      "         0.04409732,  0.06702917],\n",
      "       [-0.19963211, -0.27763463,  0.2182305 , ..., -0.01547794,\n",
      "        -0.04240697,  0.24991443],\n",
      "       ...,\n",
      "       [-0.05232917,  0.12247552,  0.08225577, ...,  0.0393504 ,\n",
      "         0.16232361,  0.24117883],\n",
      "       [ 0.02113664, -0.155243  ,  0.13401568, ..., -0.18117758,\n",
      "         0.1330438 , -0.12984252],\n",
      "       [-0.22150651,  0.06379914,  0.01556943, ...,  0.09906435,\n",
      "         0.23078759, -0.09183899]]), array([[ 0.09266581, -0.05009735, -0.24819654, ..., -0.01946433,\n",
      "        -0.11866505, -0.09209799],\n",
      "       [ 0.04832584, -0.13179545,  0.13142595, ..., -0.11118483,\n",
      "        -0.00442511, -0.04815808],\n",
      "       [ 0.02068415, -0.21095666, -0.11016404, ..., -0.22709259,\n",
      "        -0.2836184 ,  0.06589684],\n",
      "       ...,\n",
      "       [ 0.02153523,  0.07257061,  0.11181543, ...,  0.00285221,\n",
      "         0.01229586,  0.00125496],\n",
      "       [-0.06124216,  0.06568838,  0.13749132, ...,  0.04247754,\n",
      "        -0.10028968, -0.12353848],\n",
      "       [-0.21792088,  0.1124194 ,  0.08307609, ...,  0.0258705 ,\n",
      "         0.13401328,  0.02733324]]), array([[-3.31685413e-02, -3.61618611e-02,  7.21705625e-02,\n",
      "         1.27296423e-02,  2.55184227e-02,  2.01674778e-02,\n",
      "        -6.09104484e-04,  8.84881317e-03, -7.88366716e-02,\n",
      "        -1.74131365e-01],\n",
      "       [-4.87961581e-02, -8.55663371e-02, -8.07725467e-02,\n",
      "        -6.01667852e-03,  3.40057848e-02, -9.26746556e-02,\n",
      "        -5.86360424e-02, -2.16976584e-02,  9.79028451e-03,\n",
      "         5.09927718e-02],\n",
      "       [ 1.32406029e-01,  1.95041255e-01,  1.24751832e-01,\n",
      "         1.78496338e-01, -1.72513589e-02,  1.80056937e-01,\n",
      "         6.03272847e-02,  1.81450043e-01,  4.88014671e-02,\n",
      "         8.98397058e-02],\n",
      "       [-1.37738256e-01, -4.68387084e-02,  6.84063980e-02,\n",
      "        -4.85644489e-02, -5.94743499e-03, -9.14489946e-02,\n",
      "         2.65305112e-05,  1.74109923e-02,  1.37569121e-02,\n",
      "        -1.23915451e-01],\n",
      "       [ 1.06713011e-01,  9.65301666e-02, -1.58175746e-01,\n",
      "        -1.61395882e-02, -2.41365638e-03,  8.09472366e-03,\n",
      "         9.28739998e-02,  3.31213834e-02,  2.80085580e-02,\n",
      "         2.64066750e-02],\n",
      "       [-2.71706404e-02, -1.03918576e-01, -2.33898149e-03,\n",
      "        -2.05993201e-01, -8.55024748e-02,  3.27387650e-02,\n",
      "        -1.86492878e-01, -1.25314362e-01, -1.23084388e-01,\n",
      "        -9.16059837e-02],\n",
      "       [-9.90258934e-02, -7.86426275e-02,  1.34993694e-01,\n",
      "         4.56215337e-04,  6.38066426e-02, -3.73076827e-02,\n",
      "         9.50123603e-02,  3.75613828e-02,  8.20927879e-02,\n",
      "         5.91687276e-02],\n",
      "       [-4.53334582e-01,  2.05420454e-02, -8.34078178e-02,\n",
      "         5.10130186e-03,  7.44669703e-02,  6.89245370e-02,\n",
      "         5.44870217e-02,  1.22749973e-01,  1.65448439e-02,\n",
      "         1.41155519e-01],\n",
      "       [-2.37457417e-02,  1.37205376e-01,  9.30965734e-02,\n",
      "         1.38545513e-01, -1.76844548e-01, -8.98981686e-02,\n",
      "        -1.71126017e-02,  1.35240054e-01,  4.87078428e-02,\n",
      "         8.74900616e-02],\n",
      "       [ 6.91928770e-02,  3.55148944e-02, -3.11824316e-03,\n",
      "        -4.04766554e-02,  8.32179199e-02, -4.35549590e-03,\n",
      "         3.29613406e-02,  9.55911377e-02, -3.85355088e-02,\n",
      "         3.51507782e-02],\n",
      "       [-7.25576510e-02,  1.08662027e-02, -9.47703439e-04,\n",
      "         1.21583763e-01, -1.00097479e-01, -1.77744441e-01,\n",
      "        -9.60492538e-02, -4.14911296e-03,  8.81488529e-02,\n",
      "        -8.84313072e-02],\n",
      "       [ 5.63480993e-02, -5.50058545e-02, -7.61461054e-03,\n",
      "        -1.21551802e-01,  9.88927108e-02, -1.10038561e-01,\n",
      "         5.72796271e-03, -5.00006831e-03,  3.06230739e-02,\n",
      "        -2.01281910e-02],\n",
      "       [ 1.51666848e-02, -8.97834890e-03, -4.32987524e-02,\n",
      "         1.04896149e-01,  1.02036031e-01,  1.78080260e-01,\n",
      "         5.64598457e-02, -2.51097888e-02,  8.00631824e-02,\n",
      "         1.18446995e-01],\n",
      "       [ 2.91424863e-02,  6.45133794e-03, -2.32279338e-02,\n",
      "        -3.11525330e-02, -2.08383174e-01,  5.95170226e-02,\n",
      "         1.94264324e-01,  1.36075299e-01,  1.80972523e-01,\n",
      "         2.38957023e-02],\n",
      "       [ 5.61273614e-02,  2.87472371e-01, -6.70280891e-02,\n",
      "         2.99852431e-02,  1.52887236e-01,  1.07233347e-01,\n",
      "         2.21833064e-01,  1.93143283e-01,  2.73342313e-02,\n",
      "         6.04166306e-02],\n",
      "       [ 6.65149283e-02, -1.19299154e-01, -3.66326084e-02,\n",
      "         7.82261167e-02,  1.84549390e-01,  1.34641039e-01,\n",
      "         1.89253004e-01,  1.19596820e-01,  2.10633404e-01,\n",
      "         1.23707911e-01],\n",
      "       [ 6.88314953e-02, -1.83573588e-02, -1.73772605e-02,\n",
      "         2.83821643e-02, -6.14475257e-02,  9.85410668e-02,\n",
      "        -6.15423062e-03, -2.30761556e-02,  1.07707029e-02,\n",
      "         4.22675607e-02],\n",
      "       [-6.10745908e-02,  2.89059458e-01,  3.24333028e-02,\n",
      "        -2.51001863e-01,  7.68629205e-02, -1.72353392e-02,\n",
      "         9.40643385e-02,  3.87924607e-02,  3.86924268e-02,\n",
      "         6.97247361e-02],\n",
      "       [ 1.27751720e-01, -2.00076859e-02, -2.88488621e-02,\n",
      "         1.59812450e-02, -2.00298745e-02, -3.04227206e-02,\n",
      "        -5.26778087e-02, -1.04096794e-01, -1.31161858e-02,\n",
      "         9.01210062e-03],\n",
      "       [ 1.16371144e-01, -3.74158646e-02,  7.75240144e-02,\n",
      "         1.22137357e-01,  1.35513900e-01,  2.10364697e-01,\n",
      "         1.95335524e-01,  1.44559074e-01,  1.69724286e-01,\n",
      "        -3.97879842e-03],\n",
      "       [ 6.27576708e-02,  1.17882288e-01,  3.42969129e-02,\n",
      "         1.07154920e-01,  1.46934634e-01,  1.77265322e-01,\n",
      "         1.73194381e-01, -1.34931662e-02,  1.38895979e-01,\n",
      "         5.84582351e-02],\n",
      "       [ 7.46605803e-02,  5.40014838e-02,  1.73045688e-01,\n",
      "         1.22042913e-01,  4.69037793e-02,  1.19779813e-01,\n",
      "         5.67380054e-02,  1.88953193e-01,  1.25381140e-01,\n",
      "         1.16738140e-01],\n",
      "       [-1.41001037e-01, -7.82015010e-02,  8.94705098e-02,\n",
      "         2.86762188e-02, -6.71653783e-02,  1.26571200e-03,\n",
      "        -2.70274621e-01,  5.55816032e-02, -2.74067209e-01,\n",
      "        -3.20458930e-01],\n",
      "       [-1.76243936e-01, -1.78667166e-01, -8.71022687e-03,\n",
      "        -1.04346530e-01,  1.48849080e-01,  4.55087639e-02,\n",
      "        -1.56054832e-01, -1.78610825e-01, -4.55723579e-02,\n",
      "        -1.84836352e-01],\n",
      "       [-2.75419079e-02,  1.12813612e-01,  8.11493387e-02,\n",
      "         1.79535037e-02,  4.49675706e-02, -5.31055975e-02,\n",
      "         6.97957586e-02, -1.57436002e-02,  1.48582695e-02,\n",
      "        -7.60655689e-02],\n",
      "       [ 6.60896019e-02, -2.43397491e-02,  7.78310921e-02,\n",
      "         7.67807174e-02,  1.69452478e-02,  4.18148160e-02,\n",
      "         1.59663122e-02, -2.82424142e-02, -3.22160938e-03,\n",
      "        -3.59180644e-02],\n",
      "       [ 4.80407930e-03, -3.13755335e-02, -7.13510111e-02,\n",
      "         1.28420464e-01,  2.28542921e-01, -2.09841703e-02,\n",
      "        -5.83173770e-02,  3.44672838e-03, -7.58456339e-03,\n",
      "        -6.17134576e-02],\n",
      "       [-1.02658493e-01,  3.72289520e-02,  4.40273691e-02,\n",
      "        -9.34901524e-02, -2.36222456e-02,  6.52717141e-02,\n",
      "        -3.19365951e-02, -3.28724876e-02, -5.09647248e-02,\n",
      "         1.61597838e-01],\n",
      "       [-5.31868497e-02,  7.09230033e-02,  1.39165899e-01,\n",
      "         1.84587857e-01,  1.22027588e-01,  1.29076023e-01,\n",
      "         1.00403109e-01,  1.61772659e-01,  1.52953454e-01,\n",
      "         9.08708072e-02],\n",
      "       [ 1.79042078e-01, -6.30074522e-02, -7.43927374e-02,\n",
      "        -6.19431884e-02, -7.95683617e-03,  1.65554067e-01,\n",
      "        -5.07659774e-02,  3.11810218e-02,  1.34772698e-01,\n",
      "         3.68140469e-02],\n",
      "       [ 1.43121025e-01, -1.54705758e-01,  4.65548026e-02,\n",
      "         9.32179795e-02,  1.41916402e-01,  1.19753745e-02,\n",
      "         3.66565596e-02,  1.47875655e-01,  1.49828110e-01,\n",
      "         1.98829109e-01],\n",
      "       [-9.92673630e-02, -7.49741027e-02, -4.62435575e-02,\n",
      "         7.33935147e-02, -1.55556353e-01,  1.06759127e-02,\n",
      "        -2.31880776e-01, -8.34600166e-02, -2.29401706e-02,\n",
      "        -1.49549041e-02],\n",
      "       [ 6.77416453e-02,  9.32944613e-02, -9.61742811e-03,\n",
      "         6.11042407e-02, -4.41567524e-02, -6.30921282e-03,\n",
      "         2.54206415e-02,  1.04813695e-01,  8.84425732e-02,\n",
      "         4.25726354e-02],\n",
      "       [ 5.02199657e-03,  7.05318501e-02, -4.14009432e-02,\n",
      "         6.53972664e-03, -9.48004526e-02, -2.88771665e-02,\n",
      "        -4.04950335e-02, -4.25691568e-02,  2.90723582e-02,\n",
      "        -1.84044765e-01],\n",
      "       [-3.04165475e-02,  5.18672078e-02,  1.74992343e-02,\n",
      "        -4.59228095e-02, -1.76223451e-02, -6.31612696e-02,\n",
      "        -1.66779056e-01, -1.39573671e-02, -2.36434107e-02,\n",
      "         2.63795410e-02],\n",
      "       [ 1.41774975e-02,  9.66341970e-02, -1.92601795e-01,\n",
      "        -4.74476130e-02,  1.63276965e-01, -3.29515023e-02,\n",
      "        -1.61199348e-02, -5.74465818e-03, -1.81123184e-02,\n",
      "        -5.67222947e-02],\n",
      "       [-3.07858847e-02, -4.81177558e-02,  1.26392996e-01,\n",
      "        -8.32269298e-02,  6.40882622e-02, -2.88600781e-02,\n",
      "        -9.13136956e-02, -5.15439426e-02, -2.19039609e-01,\n",
      "         4.94057700e-02],\n",
      "       [-3.73186140e-02,  3.68878425e-02, -9.15957919e-02,\n",
      "         5.90638580e-02,  7.18419147e-02,  1.10081464e-01,\n",
      "        -7.93046932e-03,  1.02296921e-01,  5.32139718e-02,\n",
      "         1.37844279e-01],\n",
      "       [-1.16874964e-01,  1.24437015e-01, -1.17416473e-02,\n",
      "         8.31320558e-02,  1.61902347e-02, -1.12749554e-01,\n",
      "        -5.80624175e-02,  1.28704335e-01,  2.79986286e-02,\n",
      "         6.89826518e-02],\n",
      "       [-9.32754180e-03, -1.58977852e-01, -1.02693197e-02,\n",
      "         8.09636182e-03, -5.34842234e-03,  2.10293608e-01,\n",
      "         1.23105961e-03,  2.28903033e-01, -3.57891009e-02,\n",
      "         1.23932817e-01],\n",
      "       [-7.85543309e-02,  1.45218839e-02, -1.61835163e-02,\n",
      "        -4.01624293e-03,  4.00306789e-02,  2.60188286e-02,\n",
      "        -5.15718889e-02,  2.47383681e-02,  4.54652295e-02,\n",
      "        -5.05121979e-02],\n",
      "       [-1.73689807e-01,  1.02083601e-02,  7.03845715e-03,\n",
      "         7.73668549e-03, -1.72225945e-01, -1.15749024e-01,\n",
      "         4.83267377e-02,  5.56406689e-02, -3.49429317e-02,\n",
      "        -7.81467879e-02],\n",
      "       [ 3.83877494e-02,  5.67759579e-02,  1.04123003e-01,\n",
      "         1.21149113e-01,  1.83405529e-01,  3.02708193e-02,\n",
      "         4.43038933e-02,  3.52521740e-02,  5.49697593e-02,\n",
      "         1.01990740e-01],\n",
      "       [ 1.43462843e-01,  1.24369079e-02,  1.09666045e-01,\n",
      "         1.05684864e-01,  6.72781356e-02,  5.97788306e-02,\n",
      "         1.76943598e-01,  8.51427649e-02,  8.64347645e-02,\n",
      "         1.21871014e-01],\n",
      "       [ 4.23602921e-02,  3.73704506e-03,  1.06914076e-02,\n",
      "        -3.45554126e-02, -1.12820329e-01, -2.43288788e-02,\n",
      "        -3.18235589e-02, -6.68591719e-02,  8.54288847e-02,\n",
      "        -4.36640190e-02],\n",
      "       [ 4.49467394e-02,  2.09860286e-01,  1.12890612e-01,\n",
      "         2.22853180e-01,  1.28292059e-01,  1.83158312e-01,\n",
      "        -1.25521387e-01,  2.27279919e-01,  4.64231600e-02,\n",
      "         6.87785111e-02],\n",
      "       [-2.18621942e-01, -1.20570285e-02, -1.94782713e-02,\n",
      "        -3.25339124e-02, -1.40819563e-01, -7.07064991e-02,\n",
      "        -3.08343856e-01, -4.60348899e-02, -2.38188698e-01,\n",
      "        -1.22740092e-01],\n",
      "       [-4.63137799e-02, -9.12469898e-02, -1.27500149e-01,\n",
      "         8.41499687e-02,  6.72184179e-02,  4.78872685e-02,\n",
      "        -8.14999087e-02,  1.16644501e-01,  5.79200761e-02,\n",
      "         1.15834194e-01],\n",
      "       [-1.95164327e-02, -2.44450357e-01, -3.34308657e-02,\n",
      "        -1.58297622e-01, -6.32392583e-02, -9.50884516e-02,\n",
      "        -5.56763124e-02, -7.23727347e-02,  1.68194946e-02,\n",
      "        -3.91987355e-02],\n",
      "       [-2.30972608e-01, -1.87694406e-01, -4.00064813e-02,\n",
      "        -7.58294497e-02,  4.47093507e-02,  5.55428142e-02,\n",
      "        -1.35197022e-01, -3.81203994e-02, -8.72145840e-02,\n",
      "         2.54006820e-02]])]\n"
     ]
    }
   ],
   "source": [
    "print(clf.coefs_)"
   ]
  },
  {
   "cell_type": "code",
   "execution_count": 18,
   "metadata": {},
   "outputs": [
    {
     "data": {
      "text/plain": [
       "5"
      ]
     },
     "execution_count": 18,
     "metadata": {},
     "output_type": "execute_result"
    }
   ],
   "source": [
    "len(clf.coefs_)"
   ]
  },
  {
   "cell_type": "code",
   "execution_count": 19,
   "metadata": {},
   "outputs": [
    {
     "data": {
      "text/plain": [
       "(784, 100)"
      ]
     },
     "execution_count": 19,
     "metadata": {},
     "output_type": "execute_result"
    }
   ],
   "source": [
    "clf.coefs_[0].shape\n",
    "#explain the dimension of the W matrix for the first (hidden) layer"
   ]
  },
  {
   "cell_type": "code",
   "execution_count": 20,
   "metadata": {},
   "outputs": [
    {
     "data": {
      "text/plain": [
       "(50, 10)"
      ]
     },
     "execution_count": 20,
     "metadata": {},
     "output_type": "execute_result"
    }
   ],
   "source": [
    "clf.coefs_[4].shape\n",
    "#explain the dimension of the W matrix for the second (output) layer"
   ]
  },
  {
   "cell_type": "code",
   "execution_count": 21,
   "metadata": {},
   "outputs": [
    {
     "data": {
      "text/plain": [
       "(100,)"
      ]
     },
     "execution_count": 21,
     "metadata": {},
     "output_type": "execute_result"
    }
   ],
   "source": [
    "clf.intercepts_[0].shape\n",
    "#explain the dimension of the b (bias) vector for the first (hidden) layer"
   ]
  },
  {
   "cell_type": "code",
   "execution_count": 22,
   "metadata": {},
   "outputs": [
    {
     "data": {
      "text/plain": [
       "(100,)"
      ]
     },
     "execution_count": 22,
     "metadata": {},
     "output_type": "execute_result"
    }
   ],
   "source": [
    "clf.intercepts_[1].shape\n",
    "#explain the dimension of the b (bias) vector for the second (output) layer"
   ]
  },
  {
   "cell_type": "code",
   "execution_count": 23,
   "metadata": {
    "ExecuteTime": {
     "end_time": "2018-11-13T15:46:05.771427Z",
     "start_time": "2018-11-13T15:46:05.279063Z"
    }
   },
   "outputs": [
    {
     "data": {
      "text/plain": [
       "0.9971833333333333"
      ]
     },
     "execution_count": 23,
     "metadata": {},
     "output_type": "execute_result"
    }
   ],
   "source": [
    "clf.score(Xtrain, ytrain)"
   ]
  },
  {
   "cell_type": "code",
   "execution_count": 24,
   "metadata": {
    "ExecuteTime": {
     "end_time": "2018-11-13T15:46:06.285050Z",
     "start_time": "2018-11-13T15:46:06.215576Z"
    }
   },
   "outputs": [
    {
     "data": {
      "text/plain": [
       "0.9739"
      ]
     },
     "execution_count": 24,
     "metadata": {},
     "output_type": "execute_result"
    }
   ],
   "source": [
    "clf.score(Xtest, ytest)"
   ]
  },
  {
   "cell_type": "code",
   "execution_count": 25,
   "metadata": {},
   "outputs": [
    {
     "data": {
      "image/png": "[encoded data removed]",
      "text/plain": [
       "<Figure size 640x480 with 1 Axes>"
      ]
     },
     "metadata": {},
     "output_type": "display_data"
    }
   ],
   "source": [
    "plt.imshow( np.reshape( Xtest[1], (28,28) ) , cmap=plt.cm.gray)\n",
    "plt.show()"
   ]
  },
  {
   "cell_type": "code",
   "execution_count": 26,
   "metadata": {},
   "outputs": [
    {
     "data": {
      "text/plain": [
       "array([2], dtype=uint8)"
      ]
     },
     "execution_count": 26,
     "metadata": {},
     "output_type": "execute_result"
    }
   ],
   "source": [
    "clf.predict(Xtest[1].reshape(1, -1))"
   ]
  }
 ],
 "metadata": {
  "kernelspec": {
   "display_name": "Python 3 (ipykernel)",
   "language": "python",
   "name": "python3"
  },
  "language_info": {
   "codemirror_mode": {
    "name": "ipython",
    "version": 3
   },
   "file_extension": ".py",
   "mimetype": "text/x-python",
   "name": "python",
   "nbconvert_exporter": "python",
   "pygments_lexer": "ipython3",
   "version": "3.11.5"
  },
  "toc": {
   "nav_menu": {},
   "number_sections": true,
   "sideBar": true,
   "skip_h1_title": false,
   "title_cell": "Table of Contents",
   "title_sidebar": "Contents",
   "toc_cell": false,
   "toc_position": {},
   "toc_section_display": true,
   "toc_window_display": false
  }
 },
 "nbformat": 4,
 "nbformat_minor": 2
}
